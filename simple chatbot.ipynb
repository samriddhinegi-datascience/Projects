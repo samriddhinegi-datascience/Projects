{
 "cells": [
  {
   "cell_type": "code",
   "execution_count": null,
   "id": "a447c65e-4b9e-4042-97a3-9e479db52d2a",
   "metadata": {},
   "outputs": [
    {
     "name": "stderr",
     "output_type": "stream",
     "text": [
      "[nltk_data] Downloading package punkt to\n",
      "[nltk_data]     C:\\Users\\SAM\\AppData\\Roaming\\nltk_data...\n",
      "[nltk_data]   Package punkt is already up-to-date!\n",
      "[nltk_data] Downloading package wordnet to\n",
      "[nltk_data]     C:\\Users\\SAM\\AppData\\Roaming\\nltk_data...\n",
      "[nltk_data]   Package wordnet is already up-to-date!\n"
     ]
    },
    {
     "name": "stdout",
     "output_type": "stream",
     "text": [
      "Hi! I'm a chatbot. Type 'quit' to exit.\n"
     ]
    }
   ],
   "source": [
    "import nltk\n",
    "import random\n",
    "import string\n",
    "\n",
    "# Download resources\n",
    "nltk.download('punkt')\n",
    "nltk.download('wordnet')\n",
    "\n",
    "from nltk.chat.util import Chat, reflections\n",
    "\n",
    "# Define chatbot patterns and responses\n",
    "pairs = [\n",
    "    [\n",
    "        r\"hi|hello|hey\",\n",
    "        [\"Hello!\", \"Hi there!\", \"Hey!\"]\n",
    "    ],\n",
    "    [\n",
    "        r\"what is your name ?\",\n",
    "        [\"I am a chatbot.\", \"You can call me ChatGPT Lite.\"]\n",
    "    ],\n",
    "    [\n",
    "        r\"how are you ?\",\n",
    "        [\"I'm doing good. How about you?\", \"I'm fine, thanks for asking!\"]\n",
    "    ],\n",
    "    [\n",
    "        r\"sorry (.*)\",\n",
    "        [\"No problem\", \"Don't worry about it\", \"It's okay\"]\n",
    "    ],\n",
    "    [\n",
    "        r\"quit\",\n",
    "        [\"Bye! Take care.\", \"Goodbye!\", \"Hope to talk to you again soon!\"]\n",
    "    ],\n",
    "    [\n",
    "        r\"(.*)\",\n",
    "        [\"I didn't understand that.\", \"Can you rephrase it?\", \"Interesting...\"]\n",
    "    ]\n",
    "]\n",
    "\n",
    "# Create the chatbot\n",
    "chatbot = Chat(pairs, reflections)\n",
    "\n",
    "# Start chatting\n",
    "print(\"Hi! I'm a chatbot. Type 'quit' to exit.\")\n",
    "chatbot.converse()"
   ]
  },
  {
   "cell_type": "code",
   "execution_count": null,
   "id": "a3c2e896-efbd-415d-95b5-cea28cdf3462",
   "metadata": {},
   "outputs": [],
   "source": []
  }
 ],
 "metadata": {
  "kernelspec": {
   "display_name": "Python 3 (ipykernel)",
   "language": "python",
   "name": "python3"
  },
  "language_info": {
   "codemirror_mode": {
    "name": "ipython",
    "version": 3
   },
   "file_extension": ".py",
   "mimetype": "text/x-python",
   "name": "python",
   "nbconvert_exporter": "python",
   "pygments_lexer": "ipython3",
   "version": "3.12.4"
  }
 },
 "nbformat": 4,
 "nbformat_minor": 5
}
